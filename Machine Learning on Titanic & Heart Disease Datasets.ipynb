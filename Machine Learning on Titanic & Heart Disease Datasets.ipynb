{
  "nbformat": 4,
  "nbformat_minor": 0,
  "metadata": {
    "colab": {
      "provenance": []
    },
    "kernelspec": {
      "name": "python3",
      "display_name": "Python 3"
    },
    "language_info": {
      "name": "python"
    }
  },
  "cells": [
    {
      "cell_type": "markdown",
      "source": [
        "# Practical 2: Heart dataset\n",
        "### 12 Snehal Rakas\n",
        "### Practical 2\n"
      ],
      "metadata": {
        "id": "0Xu9ukwvKkPU"
      }
    },
    {
      "cell_type": "markdown",
      "source": [
        "1. Importing the dataset and Analysis:"
      ],
      "metadata": {
        "id": "QdOL04SLO59e"
      }
    },
    {
      "cell_type": "code",
      "source": [
        "import pandas as pd\n",
        "from sklearn.model_selection import train_test_split\n",
        "from sklearn.preprocessing import StandardScaler\n",
        "from sklearn.impute import SimpleImputer"
      ],
      "metadata": {
        "id": "2rNpStcOKpUg"
      },
      "execution_count": null,
      "outputs": []
    },
    {
      "cell_type": "code",
      "source": [
        "data = pd.read_csv('heart.csv')\n"
      ],
      "metadata": {
        "id": "d6FLf3bsLP4B"
      },
      "execution_count": null,
      "outputs": []
    },
    {
      "cell_type": "code",
      "source": [
        "print(data.head())\n"
      ],
      "metadata": {
        "colab": {
          "base_uri": "https://localhost:8080/"
        },
        "id": "7F3KsN8-LT3_",
        "outputId": "11c2a490-7b4b-4d06-a0d2-30bc23d108d4"
      },
      "execution_count": null,
      "outputs": [
        {
          "output_type": "stream",
          "name": "stdout",
          "text": [
            "   age  sex  cp  trestbps  chol  fbs  restecg  thalach  exang  oldpeak  slope  \\\n",
            "0   52    1   0       125   212    0        1      168      0      1.0      2   \n",
            "1   53    1   0       140   203    1        0      155      1      3.1      0   \n",
            "2   70    1   0       145   174    0        1      125      1      2.6      0   \n",
            "3   61    1   0       148   203    0        1      161      0      0.0      2   \n",
            "4   62    0   0       138   294    1        1      106      0      1.9      1   \n",
            "\n",
            "   ca  thal  target  \n",
            "0   2     3       0  \n",
            "1   0     3       0  \n",
            "2   0     3       0  \n",
            "3   1     3       0  \n",
            "4   3     2       0  \n"
          ]
        }
      ]
    },
    {
      "cell_type": "code",
      "source": [
        "print(\"\\nMissing values in the dataset:\")\n",
        "print(data.isnull().sum())"
      ],
      "metadata": {
        "colab": {
          "base_uri": "https://localhost:8080/"
        },
        "id": "FMHrQaunMGR0",
        "outputId": "56ef7d75-8659-4a3c-8a54-a9e6ff49815c"
      },
      "execution_count": null,
      "outputs": [
        {
          "output_type": "stream",
          "name": "stdout",
          "text": [
            "\n",
            "Missing values in the dataset:\n",
            "age         0\n",
            "sex         0\n",
            "cp          0\n",
            "trestbps    0\n",
            "chol        0\n",
            "fbs         0\n",
            "restecg     0\n",
            "thalach     0\n",
            "exang       0\n",
            "oldpeak     0\n",
            "slope       0\n",
            "ca          0\n",
            "thal        0\n",
            "target      0\n",
            "dtype: int64\n"
          ]
        }
      ]
    },
    {
      "cell_type": "markdown",
      "source": [
        "2. Handle missing values (fill with median):\n"
      ],
      "metadata": {
        "id": "dvegsdU1LZWv"
      }
    },
    {
      "cell_type": "code",
      "source": [
        "imputer = SimpleImputer(strategy='median')\n",
        "data_imputed = pd.DataFrame(imputer.fit_transform(data), columns=data.columns)\n",
        "\n",
        "print(data_imputed.isnull().sum())\n"
      ],
      "metadata": {
        "colab": {
          "base_uri": "https://localhost:8080/"
        },
        "id": "y_CMUe3DLV6F",
        "outputId": "84f6e3cc-a9ea-4661-bc48-7a7ad079818f"
      },
      "execution_count": null,
      "outputs": [
        {
          "output_type": "stream",
          "name": "stdout",
          "text": [
            "age         0\n",
            "sex         0\n",
            "cp          0\n",
            "trestbps    0\n",
            "chol        0\n",
            "fbs         0\n",
            "restecg     0\n",
            "thalach     0\n",
            "exang       0\n",
            "oldpeak     0\n",
            "slope       0\n",
            "ca          0\n",
            "thal        0\n",
            "target      0\n",
            "dtype: int64\n"
          ]
        }
      ]
    },
    {
      "cell_type": "code",
      "source": [
        "print(\"\\nMissing values after imputation:\")\n",
        "print(data_imputed.isnull().sum())"
      ],
      "metadata": {
        "colab": {
          "base_uri": "https://localhost:8080/"
        },
        "id": "nZ325nW0MJ-2",
        "outputId": "d748b7ce-32ee-469f-d5ef-af44dba8f08d"
      },
      "execution_count": null,
      "outputs": [
        {
          "output_type": "stream",
          "name": "stdout",
          "text": [
            "\n",
            "Missing values after imputation:\n",
            "age         0\n",
            "sex         0\n",
            "cp          0\n",
            "trestbps    0\n",
            "chol        0\n",
            "fbs         0\n",
            "restecg     0\n",
            "thalach     0\n",
            "exang       0\n",
            "oldpeak     0\n",
            "slope       0\n",
            "ca          0\n",
            "thal        0\n",
            "target      0\n",
            "dtype: int64\n"
          ]
        }
      ]
    },
    {
      "cell_type": "markdown",
      "source": [
        "3. Convert categorical columns to binary"
      ],
      "metadata": {
        "id": "5uIZajmCLnDL"
      }
    },
    {
      "cell_type": "code",
      "source": [
        "data_encoded = pd.get_dummies(data_imputed, columns=['cp', 'restecg'], drop_first=True)\n"
      ],
      "metadata": {
        "id": "fzUhTjaZLgLm"
      },
      "execution_count": null,
      "outputs": []
    },
    {
      "cell_type": "code",
      "source": [
        "print(\"\\nColumns after encoding 'cp' and 'restecg':\")\n",
        "print(data_encoded.columns)"
      ],
      "metadata": {
        "colab": {
          "base_uri": "https://localhost:8080/"
        },
        "id": "QPZoWjlaMN5F",
        "outputId": "878e14d6-a213-451c-dc05-9c1705733a8e"
      },
      "execution_count": null,
      "outputs": [
        {
          "output_type": "stream",
          "name": "stdout",
          "text": [
            "\n",
            "Columns after encoding 'cp' and 'restecg':\n",
            "Index(['age', 'sex', 'trestbps', 'chol', 'fbs', 'thalach', 'exang', 'oldpeak',\n",
            "       'slope', 'ca', 'thal', 'target', 'cp_1.0', 'cp_2.0', 'cp_3.0',\n",
            "       'restecg_1.0', 'restecg_2.0'],\n",
            "      dtype='object')\n"
          ]
        }
      ]
    },
    {
      "cell_type": "code",
      "source": [
        "print(\"\\nFirst few rows after encoding:\")\n",
        "print(data_encoded.head())"
      ],
      "metadata": {
        "colab": {
          "base_uri": "https://localhost:8080/"
        },
        "id": "UFo3pV4rMSTb",
        "outputId": "2336e411-402e-46a2-8917-ce0777b00ce5"
      },
      "execution_count": null,
      "outputs": [
        {
          "output_type": "stream",
          "name": "stdout",
          "text": [
            "\n",
            "First few rows after encoding:\n",
            "    age  sex  trestbps   chol  fbs  thalach  exang  oldpeak  slope   ca  thal  \\\n",
            "0  52.0  1.0     125.0  212.0  0.0    168.0    0.0      1.0    2.0  2.0   3.0   \n",
            "1  53.0  1.0     140.0  203.0  1.0    155.0    1.0      3.1    0.0  0.0   3.0   \n",
            "2  70.0  1.0     145.0  174.0  0.0    125.0    1.0      2.6    0.0  0.0   3.0   \n",
            "3  61.0  1.0     148.0  203.0  0.0    161.0    0.0      0.0    2.0  1.0   3.0   \n",
            "4  62.0  0.0     138.0  294.0  1.0    106.0    0.0      1.9    1.0  3.0   2.0   \n",
            "\n",
            "   target  cp_1.0  cp_2.0  cp_3.0  restecg_1.0  restecg_2.0  \n",
            "0     0.0   False   False   False         True        False  \n",
            "1     0.0   False   False   False        False        False  \n",
            "2     0.0   False   False   False         True        False  \n",
            "3     0.0   False   False   False         True        False  \n",
            "4     0.0   False   False   False         True        False  \n"
          ]
        }
      ]
    },
    {
      "cell_type": "markdown",
      "source": [
        "4. Splitting the dataset into features (X) and target (y):\n",
        "\n"
      ],
      "metadata": {
        "id": "Dpp5MWL7LtxS"
      }
    },
    {
      "cell_type": "code",
      "source": [
        "X = data_encoded.drop('target', axis=1)\n",
        "y = data_encoded['target']"
      ],
      "metadata": {
        "id": "dVaN1w69Lpxt"
      },
      "execution_count": null,
      "outputs": []
    },
    {
      "cell_type": "code",
      "source": [
        "print(\"\\nShape of feature matrix (X):\", X.shape)\n",
        "print(\"Shape of target vector (y):\", y.shape)\n"
      ],
      "metadata": {
        "colab": {
          "base_uri": "https://localhost:8080/"
        },
        "id": "pteRmyboMWiA",
        "outputId": "8ac23be2-8a9d-4ee7-f9ee-516c2798c5d2"
      },
      "execution_count": null,
      "outputs": [
        {
          "output_type": "stream",
          "name": "stdout",
          "text": [
            "\n",
            "Shape of feature matrix (X): (1025, 16)\n",
            "Shape of target vector (y): (1025,)\n"
          ]
        }
      ]
    },
    {
      "cell_type": "code",
      "source": [
        "print(\"\\nFirst few rows of the target (y):\")\n",
        "print(y.head())"
      ],
      "metadata": {
        "colab": {
          "base_uri": "https://localhost:8080/"
        },
        "id": "Zgt69oBCMa7A",
        "outputId": "f884d443-6b4b-4dde-a444-e30ec6506eeb"
      },
      "execution_count": null,
      "outputs": [
        {
          "output_type": "stream",
          "name": "stdout",
          "text": [
            "\n",
            "First few rows of the target (y):\n",
            "0    0.0\n",
            "1    0.0\n",
            "2    0.0\n",
            "3    0.0\n",
            "4    0.0\n",
            "Name: target, dtype: float64\n"
          ]
        }
      ]
    },
    {
      "cell_type": "code",
      "source": [
        "X_train, X_test, y_train, y_test = train_test_split(X, y, test_size=0.2, random_state=42)\n"
      ],
      "metadata": {
        "id": "6OENGCXlLyBR"
      },
      "execution_count": null,
      "outputs": []
    },
    {
      "cell_type": "code",
      "source": [
        "print(f\"\\nTraining feature set shape: {X_train.shape}, Testing feature set shape: {X_test.shape}\")\n",
        "print(f\"Training target set shape: {y_train.shape}, Testing target set shape: {y_test.shape}\")"
      ],
      "metadata": {
        "colab": {
          "base_uri": "https://localhost:8080/"
        },
        "id": "UeRAu7raMfmw",
        "outputId": "cc5ce7a9-d25f-46f7-d1f3-1cbc65a17940"
      },
      "execution_count": null,
      "outputs": [
        {
          "output_type": "stream",
          "name": "stdout",
          "text": [
            "\n",
            "Training feature set shape: (820, 16), Testing feature set shape: (205, 16)\n",
            "Training target set shape: (820,), Testing target set shape: (205,)\n"
          ]
        }
      ]
    },
    {
      "cell_type": "code",
      "source": [
        "scaler = StandardScaler()\n",
        "X_train_scaled = scaler.fit_transform(X_train)\n",
        "X_test_scaled = scaler.transform(X_test)"
      ],
      "metadata": {
        "id": "deZVdhdpL0Ba"
      },
      "execution_count": null,
      "outputs": []
    },
    {
      "cell_type": "code",
      "source": [
        "print(f'Training data shape: {X_train_scaled.shape}, Testing data shape: {X_test_scaled.shape}')\n"
      ],
      "metadata": {
        "colab": {
          "base_uri": "https://localhost:8080/"
        },
        "id": "gNB1n7V4L2sr",
        "outputId": "1e56f686-6e8b-46e2-e57c-641994f82b40"
      },
      "execution_count": null,
      "outputs": [
        {
          "output_type": "stream",
          "name": "stdout",
          "text": [
            "Training data shape: (820, 16), Testing data shape: (205, 16)\n"
          ]
        }
      ]
    },
    {
      "cell_type": "code",
      "source": [
        "print(\"\\nFirst few rows of scaled training data:\")\n",
        "print(X_train_scaled[:5])\n",
        "\n",
        "print(\"\\nFirst few rows of scaled testing data:\")\n",
        "print(X_test_scaled[:5])"
      ],
      "metadata": {
        "colab": {
          "base_uri": "https://localhost:8080/"
        },
        "id": "7ZtDF2puL4z3",
        "outputId": "9db6652a-d5cf-4ef2-ab03-619dfdc52037"
      },
      "execution_count": null,
      "outputs": [
        {
          "output_type": "stream",
          "name": "stdout",
          "text": [
            "\n",
            "First few rows of scaled training data:\n",
            "[[-5.85840222e-01  6.54653671e-01 -7.79453566e-01 -1.93503098e+00\n",
            "  -4.14039336e-01 -1.01909426e+00 -7.25948939e-01 -2.10661213e-01\n",
            "   1.00526437e+00  2.17169136e+00 -5.45193165e-01 -4.30082664e-01\n",
            "   1.60648250e+00 -2.93415602e-01 -9.80674507e-01 -1.21866670e-01]\n",
            " [ 1.05147737e+00 -1.52752523e+00  2.74173173e+00  1.61063407e+00\n",
            "  -4.14039336e-01  2.02882145e-01  1.37750735e+00 -9.12152360e-01\n",
            "   1.00526437e+00 -7.25467395e-01 -5.45193165e-01 -4.30082664e-01\n",
            "  -6.22477991e-01 -2.93415602e-01  1.01970633e+00 -1.21866670e-01]\n",
            " [-4.00676907e-02 -1.52752523e+00 -1.34738668e+00  4.42176271e-01\n",
            "  -4.14039336e-01  7.70228333e-01 -7.25948939e-01 -9.12152360e-01\n",
            "   1.00526437e+00 -7.25467395e-01 -5.45193165e-01 -4.30082664e-01\n",
            "   1.60648250e+00 -2.93415602e-01 -9.80674507e-01 -1.21866670e-01]\n",
            " [ 5.05704840e-01  6.54653671e-01  1.86032724e-01 -2.22635925e-01\n",
            "  -4.14039336e-01  5.08376246e-01 -7.25948939e-01 -4.73720393e-01\n",
            "  -6.40078509e-01 -7.25467395e-01  1.11057867e+00 -4.30082664e-01\n",
            "  -6.22477991e-01 -2.93415602e-01  1.01970633e+00 -1.21866670e-01]\n",
            " [-3.67531209e-01  6.54653671e-01 -3.81900388e-01 -1.03185928e-03\n",
            "   2.41522946e+00  7.26586318e-01 -7.25948939e-01  1.19232108e+00\n",
            "  -6.40078509e-01 -7.25467395e-01 -5.45193165e-01 -4.30082664e-01\n",
            "   1.60648250e+00 -2.93415602e-01 -9.80674507e-01 -1.21866670e-01]]\n",
            "\n",
            "First few rows of scaled testing data:\n",
            "[[ 0.83316836 -1.52752523 -0.4386937  -0.72628153 -0.41403934  0.59566027\n",
            "  -0.72594894 -0.91215236  1.00526437 -0.7254674  -0.54519316 -0.43008266\n",
            "  -0.62247799 -0.2934156   1.01970633 -0.12186667]\n",
            " [-0.1492222  -1.52752523 -0.21152045 -0.58526076 -0.41403934 -1.49915642\n",
            "  -0.72594894 -0.91215236  1.00526437 -0.7254674  -3.85673683 -0.43008266\n",
            "   1.6064825  -0.2934156  -0.98067451 -0.12186667]\n",
            " [ 0.06908682  0.65465367  1.6058655   0.8853844  -0.41403934 -0.18989598\n",
            "   1.37750735 -0.21066121 -0.64007851  0.24025219  1.11057867 -0.43008266\n",
            "  -0.62247799 -0.2934156  -0.98067451 -0.12186667]\n",
            " [-0.47668572 -1.52752523 -0.66586694 -0.02117768 -0.41403934  0.55201826\n",
            "  -0.72594894  0.05239797  1.00526437 -0.7254674  -0.54519316  2.3251344\n",
            "  -0.62247799 -0.2934156   1.01970633 -0.12186667]\n",
            " [-0.69499473  0.65465367 -0.09793383  0.22057221  2.41522946  0.02831409\n",
            "   1.37750735 -0.91215236  1.00526437  1.20597177  1.11057867 -0.43008266\n",
            "  -0.62247799 -0.2934156  -0.98067451 -0.12186667]]\n"
          ]
        }
      ]
    },
    {
      "cell_type": "markdown",
      "source": [
        "# Practical 2: Titanic dataset"
      ],
      "metadata": {
        "id": "ryNqDeF1OMbo"
      }
    },
    {
      "cell_type": "markdown",
      "source": [
        "1. Importing the dataset and Analysis:"
      ],
      "metadata": {
        "id": "M4PczPGOO0W5"
      }
    },
    {
      "cell_type": "code",
      "source": [
        "import pandas as pd\n",
        "from sklearn.model_selection import train_test_split\n",
        "from sklearn.preprocessing import StandardScaler\n",
        "from sklearn.impute import SimpleImputer\n"
      ],
      "metadata": {
        "id": "iSqvh96mMkGZ"
      },
      "execution_count": null,
      "outputs": []
    },
    {
      "cell_type": "code",
      "source": [
        "data = pd.read_csv('titanic.csv')\n"
      ],
      "metadata": {
        "id": "sqmyxq1nO_9K"
      },
      "execution_count": null,
      "outputs": []
    },
    {
      "cell_type": "code",
      "source": [
        "print(\"First few rows of the dataset:\")\n",
        "print(data.head())\n"
      ],
      "metadata": {
        "colab": {
          "base_uri": "https://localhost:8080/"
        },
        "id": "Qy3-mVlpPBpZ",
        "outputId": "509935ef-61a4-4288-de72-951319be77db"
      },
      "execution_count": null,
      "outputs": [
        {
          "output_type": "stream",
          "name": "stdout",
          "text": [
            "First few rows of the dataset:\n",
            "   PassengerId  Survived  Pclass  \\\n",
            "0            1         0       3   \n",
            "1            2         1       1   \n",
            "2            3         1       3   \n",
            "3            4         1       1   \n",
            "4            5         0       3   \n",
            "\n",
            "                                                Name     Sex   Age  SibSp  \\\n",
            "0                            Braund, Mr. Owen Harris    male  22.0      1   \n",
            "1  Cumings, Mrs. John Bradley (Florence Briggs Th...  female  38.0      1   \n",
            "2                             Heikkinen, Miss. Laina  female  26.0      0   \n",
            "3       Futrelle, Mrs. Jacques Heath (Lily May Peel)  female  35.0      1   \n",
            "4                           Allen, Mr. William Henry    male  35.0      0   \n",
            "\n",
            "   Parch            Ticket     Fare Cabin Embarked  \n",
            "0      0         A/5 21171   7.2500   NaN        S  \n",
            "1      0          PC 17599  71.2833   C85        C  \n",
            "2      0  STON/O2. 3101282   7.9250   NaN        S  \n",
            "3      0            113803  53.1000  C123        S  \n",
            "4      0            373450   8.0500   NaN        S  \n"
          ]
        }
      ]
    },
    {
      "cell_type": "markdown",
      "source": [
        "2. Drop irrelevant columns:\n"
      ],
      "metadata": {
        "id": "g0PF7ojXP-a3"
      }
    },
    {
      "cell_type": "code",
      "source": [
        "print(\"\\nColumns after dropping irrelevant features:\")\n",
        "print(data.columns)\n"
      ],
      "metadata": {
        "colab": {
          "base_uri": "https://localhost:8080/"
        },
        "id": "FRVg88IyQD8R",
        "outputId": "c787d46f-99ff-47aa-dcfe-a566cd75032f"
      },
      "execution_count": null,
      "outputs": [
        {
          "output_type": "stream",
          "name": "stdout",
          "text": [
            "\n",
            "Columns after dropping irrelevant features:\n",
            "Index(['Survived', 'Pclass', 'Sex', 'Age', 'SibSp', 'Parch', 'Fare',\n",
            "       'Embarked'],\n",
            "      dtype='object')\n"
          ]
        }
      ]
    },
    {
      "cell_type": "code",
      "source": [
        "data = data.drop(['Embarked'], axis=1)\n"
      ],
      "metadata": {
        "id": "C1xswIXKRBL6"
      },
      "execution_count": null,
      "outputs": []
    },
    {
      "cell_type": "code",
      "source": [
        "print(\"\\nColumns after dropping 'Embarked':\")\n",
        "print(data.columns)"
      ],
      "metadata": {
        "colab": {
          "base_uri": "https://localhost:8080/"
        },
        "id": "Gdcle3OWRESW",
        "outputId": "a6e98b10-c335-4aec-ccd1-5a3f18c11079"
      },
      "execution_count": null,
      "outputs": [
        {
          "output_type": "stream",
          "name": "stdout",
          "text": [
            "\n",
            "Columns after dropping 'Embarked':\n",
            "Index(['Survived', 'Pclass', 'Sex', 'Age', 'SibSp', 'Parch', 'Fare'], dtype='object')\n"
          ]
        }
      ]
    },
    {
      "cell_type": "markdown",
      "source": [
        "3. Handle missing values (Fill with median or most frequent):\n"
      ],
      "metadata": {
        "id": "SGy143PzQLPU"
      }
    },
    {
      "cell_type": "code",
      "source": [
        "print(\"\\nMissing values in the dataset:\")\n",
        "print(data.isnull().sum())\n"
      ],
      "metadata": {
        "colab": {
          "base_uri": "https://localhost:8080/"
        },
        "id": "4vHK0_7APQaN",
        "outputId": "94b176bd-17ab-4956-eb1a-9cafe93330fe"
      },
      "execution_count": null,
      "outputs": [
        {
          "output_type": "stream",
          "name": "stdout",
          "text": [
            "\n",
            "Missing values in the dataset:\n",
            "PassengerId      0\n",
            "Survived         0\n",
            "Pclass           0\n",
            "Name             0\n",
            "Sex              0\n",
            "Age            177\n",
            "SibSp            0\n",
            "Parch            0\n",
            "Ticket           0\n",
            "Fare             0\n",
            "Cabin          687\n",
            "Embarked         2\n",
            "dtype: int64\n"
          ]
        }
      ]
    },
    {
      "cell_type": "code",
      "source": [
        "imputer = SimpleImputer(strategy='median')\n",
        "data[['Age', 'Fare']] = imputer.fit_transform(data[['Age', 'Fare']])\n"
      ],
      "metadata": {
        "id": "5j7EI3wCPI_l"
      },
      "execution_count": null,
      "outputs": []
    },
    {
      "cell_type": "code",
      "source": [
        "data_encoded = pd.get_dummies(data, columns=['Sex'], drop_first=True)\n"
      ],
      "metadata": {
        "id": "jn7PlQsDRO5Q"
      },
      "execution_count": null,
      "outputs": []
    },
    {
      "cell_type": "code",
      "source": [
        "print(\"\\nColumns after encoding 'Sex':\")\n",
        "print(data_encoded.columns)"
      ],
      "metadata": {
        "colab": {
          "base_uri": "https://localhost:8080/"
        },
        "id": "mhVHBL3xRUlF",
        "outputId": "e4a31041-92df-4541-bf84-2aa494fe0809"
      },
      "execution_count": null,
      "outputs": [
        {
          "output_type": "stream",
          "name": "stdout",
          "text": [
            "\n",
            "Columns after encoding 'Sex':\n",
            "Index(['Survived', 'Pclass', 'Age', 'SibSp', 'Parch', 'Fare', 'Sex_male'], dtype='object')\n"
          ]
        }
      ]
    },
    {
      "cell_type": "code",
      "source": [
        "print(\"\\nMissing values after imputation:\")\n",
        "print(data.isnull().sum())\n"
      ],
      "metadata": {
        "colab": {
          "base_uri": "https://localhost:8080/"
        },
        "id": "VMg9ms8WPack",
        "outputId": "e44988df-cd6a-4de8-f4d4-5f05e348390d"
      },
      "execution_count": null,
      "outputs": [
        {
          "output_type": "stream",
          "name": "stdout",
          "text": [
            "\n",
            "Missing values after imputation:\n",
            "Survived    0\n",
            "Pclass      0\n",
            "Sex         0\n",
            "Age         0\n",
            "SibSp       0\n",
            "Parch       0\n",
            "Fare        0\n",
            "dtype: int64\n"
          ]
        }
      ]
    },
    {
      "cell_type": "markdown",
      "source": [
        "3. Splitting the dataset into features and target:\n"
      ],
      "metadata": {
        "id": "BKwP3LE_RZBW"
      }
    },
    {
      "cell_type": "code",
      "source": [
        "X = data_encoded.drop('Survived', axis=1)\n",
        "y = data_encoded['Survived']\n",
        "\n",
        "X_train, X_test, y_train, y_test = train_test_split(X, y, test_size=0.2, random_state=42)\n",
        "\n",
        "print(f\"\\nTraining feature set shape: {X_train.shape}, Testing feature set shape: {X_test.shape}\")\n"
      ],
      "metadata": {
        "colab": {
          "base_uri": "https://localhost:8080/"
        },
        "id": "Fi6Mn_isRbb2",
        "outputId": "5af2969c-f4b4-40ec-c8f6-8843350a42c4"
      },
      "execution_count": null,
      "outputs": [
        {
          "output_type": "stream",
          "name": "stdout",
          "text": [
            "\n",
            "Training feature set shape: (712, 6), Testing feature set shape: (179, 6)\n"
          ]
        }
      ]
    },
    {
      "cell_type": "markdown",
      "source": [
        "4. Standardizing the data:\n"
      ],
      "metadata": {
        "id": "5F_CkBcCR3KJ"
      }
    },
    {
      "cell_type": "code",
      "source": [
        "scaler = StandardScaler()\n",
        "X_train_scaled = scaler.fit_transform(X_train)\n",
        "X_test_scaled = scaler.transform(X_test)\n"
      ],
      "metadata": {
        "id": "g6_yLtXUR0Oc"
      },
      "execution_count": null,
      "outputs": []
    },
    {
      "cell_type": "code",
      "source": [
        "print(\"\\nFirst few rows of scaled training data:\")\n",
        "print(X_train_scaled[:5])\n"
      ],
      "metadata": {
        "colab": {
          "base_uri": "https://localhost:8080/"
        },
        "id": "gwxLxs0AR5q6",
        "outputId": "a51f665f-49a4-4c2c-c5f1-ca7f6a12a876"
      },
      "execution_count": null,
      "outputs": [
        {
          "output_type": "stream",
          "name": "stdout",
          "text": [
            "\n",
            "First few rows of scaled training data:\n",
            "[[-1.61413602  1.25364106 -0.47072241 -0.47934164 -0.07868358  0.7243102 ]\n",
            " [-0.40055118 -0.47728355 -0.47072241 -0.47934164 -0.37714494  0.7243102 ]\n",
            " [ 0.81303367  0.21508629 -0.47072241 -0.47934164 -0.47486697  0.7243102 ]\n",
            " [ 0.81303367 -0.24649361  0.37992316 -0.47934164 -0.47623026  0.7243102 ]\n",
            " [ 0.81303367 -1.78509326  2.93185988  2.04874166 -0.02524937 -1.38062393]]\n"
          ]
        }
      ]
    },
    {
      "cell_type": "code",
      "source": [
        "print(\"\\nFirst few rows of scaled testing data:\")\n",
        "print(X_test_scaled[:5])"
      ],
      "metadata": {
        "colab": {
          "base_uri": "https://localhost:8080/"
        },
        "id": "Ek7ajuSfR79Z",
        "outputId": "01e52a87-2d84-482a-c4e9-1e851cc8682f"
      },
      "execution_count": null,
      "outputs": [
        {
          "output_type": "stream",
          "name": "stdout",
          "text": [
            "\n",
            "First few rows of scaled testing data:\n",
            "[[ 0.81303367 -0.09263364  0.37992316  0.78470001 -0.33390078  0.7243102 ]\n",
            " [-0.40055118  0.13815631 -0.47072241 -0.47934164 -0.42528387  0.7243102 ]\n",
            " [ 0.81303367 -0.7080735  -0.47072241 -0.47934164 -0.47486697  0.7243102 ]\n",
            " [-0.40055118 -1.78509326 -0.47072241  0.78470001  0.00796649 -1.38062393]\n",
            " [ 0.81303367 -1.1696534   0.37992316 -0.47934164 -0.41100201 -1.38062393]]\n"
          ]
        }
      ]
    },
    {
      "cell_type": "code",
      "source": [],
      "metadata": {
        "id": "v77jIagjR9-Q"
      },
      "execution_count": null,
      "outputs": []
    }
  ]
}